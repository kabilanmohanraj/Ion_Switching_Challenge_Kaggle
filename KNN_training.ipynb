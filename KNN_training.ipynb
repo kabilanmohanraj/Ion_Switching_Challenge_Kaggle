{
  "nbformat": 4,
  "nbformat_minor": 0,
  "metadata": {
    "colab": {
      "name": "KNN_KFold.ipynb",
      "provenance": [],
      "collapsed_sections": []
    },
    "kernelspec": {
      "name": "python3",
      "display_name": "Python 3"
    }
  },
  "cells": [
    {
      "cell_type": "code",
      "metadata": {
        "id": "1DqI1TMfjhSE"
      },
      "source": [
        "import warnings\n",
        "warnings.filterwarnings(\"ignore\")\n",
        "\n",
        "import pandas as pd\n",
        "import numpy as np\n",
        "\n",
        "import matplotlib.pyplot as plt\n",
        "\n",
        "from itertools import cycle\n",
        "\n",
        "from scipy import interp\n",
        "\n",
        "from sklearn.preprocessing import MinMaxScaler, LabelBinarizer\n",
        "from sklearn.model_selection import KFold, train_test_split, cross_validate\n",
        "from sklearn.neighbors import KNeighborsClassifier\n",
        "from sklearn.metrics import roc_curve, auc, make_scorer, f1_score, roc_auc_score\n",
        "from sklearn.multiclass import OneVsRestClassifier\n",
        "\n",
        "from imblearn.over_sampling import SMOTE\n",
        "from imblearn.combine import SMOTEENN\n",
        "from imblearn.under_sampling import EditedNearestNeighbours"
      ],
      "execution_count": null,
      "outputs": []
    },
    {
      "cell_type": "code",
      "metadata": {
        "id": "lyVe1145jhSW",
        "colab": {
          "base_uri": "https://localhost:8080/",
          "height": 206
        },
        "outputId": "b94de033-58a3-4ea6-b7d5-c6ade33c00fd"
      },
      "source": [
        "train = pd.read_csv('/content/drive/My Drive/Ion_Channel/Kaggle_dataset/train_clean_degree5.csv')\n",
        "train = train.iloc[:, 1:]\n",
        "train.head()"
      ],
      "execution_count": null,
      "outputs": [
        {
          "output_type": "execute_result",
          "data": {
            "text/html": [
              "<div>\n",
              "<style scoped>\n",
              "    .dataframe tbody tr th:only-of-type {\n",
              "        vertical-align: middle;\n",
              "    }\n",
              "\n",
              "    .dataframe tbody tr th {\n",
              "        vertical-align: top;\n",
              "    }\n",
              "\n",
              "    .dataframe thead th {\n",
              "        text-align: right;\n",
              "    }\n",
              "</style>\n",
              "<table border=\"1\" class=\"dataframe\">\n",
              "  <thead>\n",
              "    <tr style=\"text-align: right;\">\n",
              "      <th></th>\n",
              "      <th>signal</th>\n",
              "      <th>open_channels</th>\n",
              "    </tr>\n",
              "  </thead>\n",
              "  <tbody>\n",
              "    <tr>\n",
              "      <th>0</th>\n",
              "      <td>-2.7600</td>\n",
              "      <td>0</td>\n",
              "    </tr>\n",
              "    <tr>\n",
              "      <th>1</th>\n",
              "      <td>-2.8557</td>\n",
              "      <td>0</td>\n",
              "    </tr>\n",
              "    <tr>\n",
              "      <th>2</th>\n",
              "      <td>-2.4074</td>\n",
              "      <td>0</td>\n",
              "    </tr>\n",
              "    <tr>\n",
              "      <th>3</th>\n",
              "      <td>-3.1404</td>\n",
              "      <td>0</td>\n",
              "    </tr>\n",
              "    <tr>\n",
              "      <th>4</th>\n",
              "      <td>-3.1525</td>\n",
              "      <td>0</td>\n",
              "    </tr>\n",
              "  </tbody>\n",
              "</table>\n",
              "</div>"
            ],
            "text/plain": [
              "   signal  open_channels\n",
              "0 -2.7600              0\n",
              "1 -2.8557              0\n",
              "2 -2.4074              0\n",
              "3 -3.1404              0\n",
              "4 -3.1525              0"
            ]
          },
          "metadata": {
            "tags": []
          },
          "execution_count": 2
        }
      ]
    },
    {
      "cell_type": "code",
      "metadata": {
        "id": "08BzI1uj6CNy",
        "colab": {
          "base_uri": "https://localhost:8080/",
          "height": 112
        },
        "outputId": "7e7247a9-ff94-4652-9760-449d992bb4a3"
      },
      "source": [
        "train.corr()"
      ],
      "execution_count": null,
      "outputs": [
        {
          "output_type": "execute_result",
          "data": {
            "text/html": [
              "<div>\n",
              "<style scoped>\n",
              "    .dataframe tbody tr th:only-of-type {\n",
              "        vertical-align: middle;\n",
              "    }\n",
              "\n",
              "    .dataframe tbody tr th {\n",
              "        vertical-align: top;\n",
              "    }\n",
              "\n",
              "    .dataframe thead th {\n",
              "        text-align: right;\n",
              "    }\n",
              "</style>\n",
              "<table border=\"1\" class=\"dataframe\">\n",
              "  <thead>\n",
              "    <tr style=\"text-align: right;\">\n",
              "      <th></th>\n",
              "      <th>signal</th>\n",
              "      <th>open_channels</th>\n",
              "    </tr>\n",
              "  </thead>\n",
              "  <tbody>\n",
              "    <tr>\n",
              "      <th>signal</th>\n",
              "      <td>1.000000</td>\n",
              "      <td>0.958721</td>\n",
              "    </tr>\n",
              "    <tr>\n",
              "      <th>open_channels</th>\n",
              "      <td>0.958721</td>\n",
              "      <td>1.000000</td>\n",
              "    </tr>\n",
              "  </tbody>\n",
              "</table>\n",
              "</div>"
            ],
            "text/plain": [
              "                 signal  open_channels\n",
              "signal         1.000000       0.958721\n",
              "open_channels  0.958721       1.000000"
            ]
          },
          "metadata": {
            "tags": []
          },
          "execution_count": 3
        }
      ]
    },
    {
      "cell_type": "code",
      "metadata": {
        "id": "A3Tue8Ol5Qpf"
      },
      "source": [
        "scaler = MinMaxScaler()\n",
        "train['signal'] = scaler.fit_transform(np.array(train['signal']).reshape(-1, 1))"
      ],
      "execution_count": null,
      "outputs": []
    },
    {
      "cell_type": "code",
      "metadata": {
        "id": "BpCQ0zJ35_td",
        "colab": {
          "base_uri": "https://localhost:8080/",
          "height": 206
        },
        "outputId": "477ada65-b56b-407c-a4f0-946c0c6c2a24"
      },
      "source": [
        "train.head()"
      ],
      "execution_count": null,
      "outputs": [
        {
          "output_type": "execute_result",
          "data": {
            "text/html": [
              "<div>\n",
              "<style scoped>\n",
              "    .dataframe tbody tr th:only-of-type {\n",
              "        vertical-align: middle;\n",
              "    }\n",
              "\n",
              "    .dataframe tbody tr th {\n",
              "        vertical-align: top;\n",
              "    }\n",
              "\n",
              "    .dataframe thead th {\n",
              "        text-align: right;\n",
              "    }\n",
              "</style>\n",
              "<table border=\"1\" class=\"dataframe\">\n",
              "  <thead>\n",
              "    <tr style=\"text-align: right;\">\n",
              "      <th></th>\n",
              "      <th>signal</th>\n",
              "      <th>open_channels</th>\n",
              "    </tr>\n",
              "  </thead>\n",
              "  <tbody>\n",
              "    <tr>\n",
              "      <th>0</th>\n",
              "      <td>0.210728</td>\n",
              "      <td>0</td>\n",
              "    </tr>\n",
              "    <tr>\n",
              "      <th>1</th>\n",
              "      <td>0.204086</td>\n",
              "      <td>0</td>\n",
              "    </tr>\n",
              "    <tr>\n",
              "      <th>2</th>\n",
              "      <td>0.235197</td>\n",
              "      <td>0</td>\n",
              "    </tr>\n",
              "    <tr>\n",
              "      <th>3</th>\n",
              "      <td>0.184329</td>\n",
              "      <td>0</td>\n",
              "    </tr>\n",
              "    <tr>\n",
              "      <th>4</th>\n",
              "      <td>0.183489</td>\n",
              "      <td>0</td>\n",
              "    </tr>\n",
              "  </tbody>\n",
              "</table>\n",
              "</div>"
            ],
            "text/plain": [
              "     signal  open_channels\n",
              "0  0.210728              0\n",
              "1  0.204086              0\n",
              "2  0.235197              0\n",
              "3  0.184329              0\n",
              "4  0.183489              0"
            ]
          },
          "metadata": {
            "tags": []
          },
          "execution_count": 13
        }
      ]
    },
    {
      "cell_type": "markdown",
      "metadata": {
        "id": "uRYrBY8ssdLR"
      },
      "source": [
        "### Segmented Approach"
      ]
    },
    {
      "cell_type": "code",
      "metadata": {
        "id": "JL8H-FUWs95_"
      },
      "source": [
        "# 5 models to be created -- 1s, 1f, 3, 5, 10\n",
        "knn_1s = KNeighborsClassifier(weights='distance')\n",
        "knn_1f = KNeighborsClassifier(weights='distance')\n",
        "knn_3 = KNeighborsClassifier(weights='distance')\n",
        "knn_5 = KNeighborsClassifier(weights='distance')\n",
        "knn_10 = KNeighborsClassifier(weights='distance')"
      ],
      "execution_count": null,
      "outputs": []
    },
    {
      "cell_type": "code",
      "metadata": {
        "id": "wXbT9U_JTbvt"
      },
      "source": [
        "resample = SMOTEENN(enn=EditedNearestNeighbours(sampling_strategy='not majority'), random_state=100)"
      ],
      "execution_count": null,
      "outputs": []
    },
    {
      "cell_type": "code",
      "metadata": {
        "id": "EUg9MQByMHba"
      },
      "source": [
        "k_fold = KFold(n_splits=10, shuffle=True, random_state=42)"
      ],
      "execution_count": null,
      "outputs": []
    },
    {
      "cell_type": "code",
      "metadata": {
        "id": "N0QzvuYVwfhO",
        "colab": {
          "base_uri": "https://localhost:8080/",
          "height": 34
        },
        "outputId": "f70e695a-4f7a-4ff3-91ce-f813667537a2"
      },
      "source": [
        "import numpy as np\n",
        "\n",
        "arr = np.array(\n",
        "[0.97512374, 0.97510321, 0.97540913, 0.97487094, 0.97548163,\n",
        "0.97579583, 0.97516264, 0.97501653, 0.97521015, 0.97521021]\n",
        "               )\n",
        "arr.mean()"
      ],
      "execution_count": null,
      "outputs": [
        {
          "output_type": "execute_result",
          "data": {
            "text/plain": [
              "0.975238401"
            ]
          },
          "metadata": {
            "tags": []
          },
          "execution_count": 24
        }
      ]
    },
    {
      "cell_type": "code",
      "metadata": {
        "id": "4U9kz_Snwt1W",
        "colab": {
          "base_uri": "https://localhost:8080/",
          "height": 34
        },
        "outputId": "51e8dc73-5015-4649-8eb9-b8202bd41e1f"
      },
      "source": [
        "arr.std()"
      ],
      "execution_count": null,
      "outputs": [
        {
          "output_type": "execute_result",
          "data": {
            "text/plain": [
              "0.0002494085979051339"
            ]
          },
          "metadata": {
            "tags": []
          },
          "execution_count": 25
        }
      ]
    },
    {
      "cell_type": "code",
      "metadata": {
        "id": "ZGXUjk7WvZEu",
        "colab": {
          "base_uri": "https://localhost:8080/",
          "height": 121
        },
        "outputId": "0f2c8f2c-82c2-4c41-d88d-d0332fea8137"
      },
      "source": [
        "X, y = resample.fit_sample(np.array(train['signal'][0:1000000]).reshape(-1, 1), np.array(train['open_channels'][0:1000000]).reshape(-1, 1))\n",
        "\n",
        "scoring = {'roc_auc' : make_scorer(roc_auc_score)}\n",
        "results = cross_validate(estimator=knn_1s, X=X, y=y, cv=k_fold, scoring=scoring)\n",
        "results"
      ],
      "execution_count": null,
      "outputs": [
        {
          "output_type": "execute_result",
          "data": {
            "text/plain": [
              "{'fit_time': array([3.3037293 , 3.95082283, 3.19242024, 4.0049963 , 4.35322428,\n",
              "        4.34410286, 4.04452109, 3.2638576 , 3.88519669, 3.07905126]),\n",
              " 'score_time': array([1.22070813, 1.19833136, 1.29943943, 1.44911146, 1.22909713,\n",
              "        1.20287156, 1.19350529, 1.06522989, 1.17371488, 1.12585306]),\n",
              " 'test_roc_auc': array([0.99886589, 0.99892183, 0.99889168, 0.99904798, 0.9988519 ,\n",
              "        0.9988592 , 0.998969  , 0.9988543 , 0.99895335, 0.99887606])}"
            ]
          },
          "metadata": {
            "tags": []
          },
          "execution_count": 17
        }
      ]
    },
    {
      "cell_type": "code",
      "metadata": {
        "id": "7nc8YP9fwxoM",
        "colab": {
          "base_uri": "https://localhost:8080/",
          "height": 121
        },
        "outputId": "7c8d238b-4058-4a7e-aade-62c8ef5427a1"
      },
      "source": [
        "rf1f_X = np.concatenate([train['signal'].values[1000000: 1500000], train['signal'].values[3000000: 3500000]])\n",
        "rf1f_y = np.concatenate([train['open_channels'].values[1000000: 1500000], train['open_channels'].values[3000000: 3500000]])\n",
        "\n",
        "X, y = resample.fit_sample(np.array(rf1f_X).reshape(-1, 1), np.array(rf1f_y).reshape(-1, 1))\n",
        "results_1f = cross_validate(estimator=knn_1f, X=X, y=y, cv=k_fold, scoring=scoring)\n",
        "results_1f"
      ],
      "execution_count": null,
      "outputs": [
        {
          "output_type": "execute_result",
          "data": {
            "text/plain": [
              "{'fit_time': array([1.46542597, 1.49759889, 1.46086788, 1.52635956, 1.76005936,\n",
              "        1.64247918, 1.51528335, 1.78034568, 1.48586655, 1.57658744]),\n",
              " 'score_time': array([0.62239146, 0.63558364, 0.59218764, 0.6033597 , 0.60804081,\n",
              "        0.6333077 , 0.58761764, 0.63136649, 0.55480838, 0.6214397 ]),\n",
              " 'test_roc_auc': array([0.99827026, 0.99841687, 0.99844511, 0.99840823, 0.99839102,\n",
              "        0.9984948 , 0.99848411, 0.99826595, 0.99844969, 0.99828784])}"
            ]
          },
          "metadata": {
            "tags": []
          },
          "execution_count": 19
        }
      ]
    },
    {
      "cell_type": "code",
      "metadata": {
        "id": "COs8yg3cyIff"
      },
      "source": [
        "rf3_X = np.concatenate([train['signal'].values[1500000: 2000000], train['signal'].values[3500000: 4000000]])\n",
        "rf3_y = np.concatenate([train['open_channels'].values[1500000: 2000000], train['open_channels'].values[3500000: 4000000]])\n",
        "\n",
        "scoring = {'roc_auc' : make_scorer(roc_auc_score, average='macro', multi_class='ovr')}\n",
        "X, y = resample.fit_sample(np.array(rf3_X).reshape(-1, 1), np.array(rf3_y).reshape(-1, 1))\n",
        "lb = LabelBinarizer()\n",
        "y = lb.fit_transform(y)\n",
        "results_3 = cross_validate(estimator=knn_3, X=X, y=y, cv=k_fold, scoring=scoring)\n",
        "results_3"
      ],
      "execution_count": null,
      "outputs": []
    },
    {
      "cell_type": "code",
      "metadata": {
        "id": "OlEQx81G0jIh"
      },
      "source": [
        "rf5_X = np.concatenate([train['signal'].values[2500000: 3000000], train['signal'].values[4000000: 4500000]])\n",
        "rf5_y = np.concatenate([train['open_channels'].values[2500000: 3000000], train['open_channels'].values[4000000: 4500000]])\n",
        "\n",
        "X, y = resample.fit_sample(np.array(rf5_X).reshape(-1, 1), np.array(rf5_y).reshape(-1, 1))\n",
        "scoring = {'roc_auc' : make_scorer(roc_auc_score, average='macro', multi_class='ovr')}\n",
        "lb = LabelBinarizer()\n",
        "y = lb.fit_transform(y)\n",
        "results_5 = cross_validate(estimator=knn_5, X=X, y=y, cv=k_fold, scoring=scoring)\n",
        "results_5"
      ],
      "execution_count": null,
      "outputs": []
    },
    {
      "cell_type": "code",
      "metadata": {
        "id": "w3uZCtEe3M0e"
      },
      "source": [
        "rf10_y = np.concatenate([train['open_channels'].values[2000000: 2500000], train['open_channels'].values[4500000: 5000000]])\n",
        "\n",
        "rf10_y = pd.Series(rf10_y)\n",
        "index =np.array([rf10_y[rf10_y == 0].index[0], rf10_y[rf10_y == 0].index[1]])\n",
        "rf10_X = np.concatenate([train['signal'].values[2000000: 2500000], train['signal'].values[4500000: 5000000]])\n",
        "rf10_y = np.concatenate([train['open_channels'].values[2000000: 2500000], train['open_channels'].values[4500000: 5000000]])\n",
        "rf10_X = np.delete(rf10_X, index)\n",
        "rf10_y = np.delete(rf10_y, index)\n",
        "resample = SMOTEENN(enn=EditedNearestNeighbours(sampling_strategy='not majority', n_neighbors=2), random_state=100)\n",
        "X, y = resample.fit_sample(np.array(rf10_X).reshape(-1, 1), np.array(rf10_y).reshape(-1, 1))\n",
        "lb = LabelBinarizer()\n",
        "y = lb.fit_transform(y)\n",
        "results_10 = cross_validate(estimator=knn_10, X=X, y=y, cv=k_fold, scoring=scoring)\n",
        "results_10"
      ],
      "execution_count": null,
      "outputs": []
    },
    {
      "cell_type": "markdown",
      "metadata": {
        "id": "xMUitCqlsP7-"
      },
      "source": [
        "### Traditional Approach"
      ]
    },
    {
      "cell_type": "code",
      "metadata": {
        "id": "KrUM2eyPpYH3"
      },
      "source": [
        "knn_full = KNeighborsClassifier(weights='distance', n_neighbors=5)\n",
        "\n",
        "resample = SMOTEENN(enn=EditedNearestNeighbours(sampling_strategy='not majority'), random_state=100)\n",
        "X, y = resample.fit_sample(np.array(train['signal']).reshape(-1, 1), np.array(train['open_channels']).reshape(-1, 1))"
      ],
      "execution_count": null,
      "outputs": []
    },
    {
      "cell_type": "code",
      "metadata": {
        "id": "zPVG570_ojl0"
      },
      "source": [
        "lb = LabelBinarizer()\n",
        "y = lb.fit_transform(y)"
      ],
      "execution_count": null,
      "outputs": []
    },
    {
      "cell_type": "code",
      "metadata": {
        "id": "KmM3SvLG2NuO",
        "colab": {
          "base_uri": "https://localhost:8080/",
          "height": 121
        },
        "outputId": "b1bfd986-6aa6-412e-f401-e65697b2e3c8"
      },
      "source": [
        "scoring = {'roc_auc' : make_scorer(roc_auc_score, average='macro', multi_class='ovr')}\n",
        "results_full = cross_validate(estimator=knn_full, X=X, y=y, cv=k_fold, scoring=scoring)\n",
        "results_full"
      ],
      "execution_count": null,
      "outputs": [
        {
          "output_type": "execute_result",
          "data": {
            "text/plain": [
              "{'fit_time': array([31.39008999, 31.45761085, 28.80898142, 34.16961598, 29.00011468,\n",
              "        33.9434011 , 35.47163534, 34.56068063, 30.94282651, 31.93571877]),\n",
              " 'score_time': array([ 6.63669872,  7.52725935,  7.52911496,  7.8980906 ,  7.32159615,\n",
              "         7.88629007,  7.40735102,  8.07201266, 10.48355341,  8.04285192]),\n",
              " 'test_roc_auc': array([0.99812981, 0.99813296, 0.99808186, 0.99801793, 0.99803398,\n",
              "        0.99818382, 0.99808859, 0.99809167, 0.99815037, 0.99802546])}"
            ]
          },
          "metadata": {
            "tags": []
          },
          "execution_count": 28
        }
      ]
    },
    {
      "cell_type": "markdown",
      "metadata": {
        "id": "yBtwmbi0ekEE"
      },
      "source": [
        "### Class-wise ROC plot"
      ]
    },
    {
      "cell_type": "code",
      "metadata": {
        "id": "HrEYDJ9Svoec"
      },
      "source": [
        "X_train, X_test, y_train, y_test = train_test_split(X, y, test_size=0.1, random_state=42, stratify=y)\n",
        "\n",
        "classifier = OneVsRestClassifier(knn_full)"
      ],
      "execution_count": null,
      "outputs": []
    },
    {
      "cell_type": "code",
      "metadata": {
        "id": "wiFGiutllg6b"
      },
      "source": [
        "classifier.fit(X_train, y_train)\n",
        "n_classes = 11\n",
        "\n",
        "# Compute ROC curve and ROC area for each class\n",
        "fpr = dict()\n",
        "tpr = dict()\n",
        "roc_auc = dict()"
      ],
      "execution_count": null,
      "outputs": []
    },
    {
      "cell_type": "code",
      "metadata": {
        "id": "ZIKDc_Ej5UIQ"
      },
      "source": [
        "y_score = classifier.predict(X_test)"
      ],
      "execution_count": null,
      "outputs": []
    },
    {
      "cell_type": "code",
      "metadata": {
        "id": "DaY_BzXOxiu8",
        "colab": {
          "base_uri": "https://localhost:8080/",
          "height": 614
        },
        "outputId": "4e2a8855-07f8-4dce-fef5-5b9fd967d6ba"
      },
      "source": [
        "for i in range(n_classes):\n",
        "    fpr[i], tpr[i], _ = roc_curve(y_test[:, i], y_score[:, i])\n",
        "    roc_auc[i] = auc(fpr[i], tpr[i])\n",
        "\n",
        "# First aggregate all false positive rates\n",
        "all_fpr = np.unique(np.concatenate([fpr[i] for i in range(n_classes)]))\n",
        "\n",
        "# Then interpolate all ROC curves at this points\n",
        "mean_tpr = np.zeros_like(all_fpr)\n",
        "for i in range(n_classes):\n",
        "    mean_tpr += interp(all_fpr, fpr[i], tpr[i])\n",
        "\n",
        "# Finally average it and compute AUC\n",
        "mean_tpr /= n_classes\n",
        "\n",
        "plt.figure(figsize=(15, 7.5))\n",
        "colors = cycle(['aqua', 'darkorange', 'cornflowerblue', 'lime', 'red', 'green', 'gold', 'yellow', 'dodgerblue', 'magenta', 'black'])\n",
        "for i, color in zip(range(n_classes), colors):\n",
        "    plt.plot(fpr[i], tpr[i], color=color, lw=2,\n",
        "             label='{0} channels open(area = {1:0.4f})'\n",
        "             ''.format(i, roc_auc[i]))\n",
        "\n",
        "# plt.plot([0, 1], [0, 1], 'k--', lw=2)\n",
        "plt.xlim([0.0, 0.002])\n",
        "plt.ylim([0.0, 1.05])\n",
        "plt.xlabel('False Positive Rate')\n",
        "plt.ylabel('True Positive Rate')\n",
        "plt.title('Receiver Operating Characteristic (ROC)')\n",
        "plt.legend(loc=\"lower right\")\n",
        "plt.show()"
      ],
      "execution_count": null,
      "outputs": [
        {
          "output_type": "display_data",
          "data": {
            "image/png": "[encoded data removed]",
            "text/plain": [
              "<Figure size 1440x720 with 1 Axes>"
            ]
          },
          "metadata": {
            "tags": [],
            "needs_background": "light"
          }
        }
      ]
    },
    {
      "cell_type": "markdown",
      "metadata": {
        "id": "rLuNYwJruviW"
      },
      "source": [
        "#### Finding optimal k value for kNN"
      ]
    },
    {
      "cell_type": "code",
      "metadata": {
        "id": "T6H1BE1r6-kI"
      },
      "source": [
        "# knn_full = KNeighborsClassifier(weights='distance')\n",
        "\n",
        "# resample = SMOTEENN(enn=EditedNearestNeighbours(sampling_strategy='not majority', n_neighbors=2), random_state=100)\n",
        "# X, y = resample.fit_sample(np.array(train_df[1]).reshape(-1, 1), np.array(train_df[2]).reshape(-1, 1))\n",
        "# lb = LabelBinarizer()\n",
        "# y = lb.fit_transform(y)\n",
        "\n",
        "# X_train, X_test, y_train, y_test = train_test_split(X, y, test_size=0.2, random_state=42)\n",
        "# error_rate = []\n",
        "# min_error_k = 0\n",
        "# min_error = 0\n",
        "# for i in range(1, 2001, 100):\n",
        "#   knn_full = KNeighborsClassifier(n_neighbors=i)\n",
        "#   knn_full.fit(X_train,y_train)\n",
        "#   pred_i = knn_full.predict(X_test)\n",
        "#   error_rate.append(np.mean(pred_i != y_test))\n",
        "#   if(min_error>np.mean(pred_i != y_test)):\n",
        "#     min_error_k = i\n",
        "\n",
        "# min_error_k\n",
        "\n",
        "# k_fold = KFold(n_splits=10, shuffle=True, random_state=42)\n",
        "# results_full = cross_validate(estimator=knn_full, X=X, y=y, cv=k_fold, scoring=scoring)\n",
        "# results_full"
      ],
      "execution_count": null,
      "outputs": []
    }
  ]
}